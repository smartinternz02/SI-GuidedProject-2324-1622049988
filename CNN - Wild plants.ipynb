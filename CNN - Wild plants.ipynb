{
 "cells": [
  {
   "cell_type": "code",
   "execution_count": 3,
   "metadata": {},
   "outputs": [],
   "source": [
    "from tensorflow.keras.models import Sequential\n",
    "from tensorflow.keras.layers import Dense\n",
    "from tensorflow.keras.layers import Convolution2D\n",
    "from tensorflow.keras.layers import MaxPooling2D\n",
    "from tensorflow.keras.layers import Flatten\n",
    "from tensorflow.keras.layers import Dropout"
   ]
  },
  {
   "cell_type": "code",
   "execution_count": 4,
   "metadata": {},
   "outputs": [],
   "source": [
    "from keras.preprocessing.image import ImageDataGenerator\n",
    "train_datagen =  ImageDataGenerator(rescale = 1./255,shear_range = 0.2,zoom_range = 0.2,rotation_range=180,horizontal_flip = True)\n",
    "test_datagen =  ImageDataGenerator(rescale = 1./255)"
   ]
  },
  {
   "cell_type": "code",
   "execution_count": 5,
   "metadata": {
    "scrolled": true
   },
   "outputs": [
    {
     "name": "stdout",
     "output_type": "stream",
     "text": [
      "Found 423 images belonging to 6 classes.\n",
      "Found 143 images belonging to 6 classes.\n"
     ]
    }
   ],
   "source": [
    "x_train = train_datagen.flow_from_directory(r\"E:\\Gcetexternship\\dataset\\train_set\",target_size = (128,128),batch_size = 32, class_mode ='categorical')\n",
    "x_test = test_datagen.flow_from_directory(r\"E:\\Gcetexternship\\dataset\\test_set\",target_size = (128,128),batch_size = 32, class_mode ='categorical')"
   ]
  },
  {
   "cell_type": "code",
   "execution_count": 6,
   "metadata": {},
   "outputs": [],
   "source": [
    "model = Sequential()"
   ]
  },
  {
   "cell_type": "code",
   "execution_count": 7,
   "metadata": {},
   "outputs": [],
   "source": [
    "model.add(Convolution2D(64,(3,3),input_shape=(128,128,3), activation='relu'))"
   ]
  },
  {
   "cell_type": "code",
   "execution_count": 8,
   "metadata": {},
   "outputs": [],
   "source": [
    "model.add(MaxPooling2D(pool_size=(2,2)))"
   ]
  },
  {
   "cell_type": "code",
   "execution_count": 9,
   "metadata": {},
   "outputs": [],
   "source": [
    "model.add(Flatten())"
   ]
  },
  {
   "cell_type": "code",
   "execution_count": 10,
   "metadata": {},
   "outputs": [],
   "source": [
    "model.add(Dropout(0.3))"
   ]
  },
  {
   "cell_type": "code",
   "execution_count": 11,
   "metadata": {},
   "outputs": [],
   "source": [
    "model.add(Dense(units = 150,activation = 'relu',kernel_initializer ='uniform'))"
   ]
  },
  {
   "cell_type": "code",
   "execution_count": 12,
   "metadata": {},
   "outputs": [],
   "source": [
    "model.add(Dense(units=75 , activation='relu',kernel_initializer ='uniform' ))"
   ]
  },
  {
   "cell_type": "code",
   "execution_count": 13,
   "metadata": {},
   "outputs": [],
   "source": [
    "model.add(Dense(units = 6,activation = 'softmax',kernel_initializer = 'uniform'))"
   ]
  },
  {
   "cell_type": "code",
   "execution_count": 14,
   "metadata": {},
   "outputs": [],
   "source": [
    "model.compile(loss = 'categorical_crossentropy',optimizer = 'adam',metrics = ['accuracy'])"
   ]
  },
  {
   "cell_type": "code",
   "execution_count": 15,
   "metadata": {},
   "outputs": [
    {
     "name": "stdout",
     "output_type": "stream",
     "text": [
      "{'Asparagus_edible': 0, 'Blue Vervain_edible': 1, 'Cattail_edible': 2, 'Chicory_edible_non edible': 3, 'Fireweed_edible_non edible': 4, 'green castor bean_non edible': 5}\n"
     ]
    }
   ],
   "source": [
    "print(x_train.class_indices)"
   ]
  },
  {
   "cell_type": "code",
   "execution_count": 16,
   "metadata": {},
   "outputs": [
    {
     "name": "stderr",
     "output_type": "stream",
     "text": [
      "E:\\Users\\Sath-AI\\lib\\site-packages\\tensorflow\\python\\keras\\engine\\training.py:1844: UserWarning: `Model.fit_generator` is deprecated and will be removed in a future version. Please use `Model.fit`, which supports generators.\n",
      "  warnings.warn('`Model.fit_generator` is deprecated and '\n"
     ]
    },
    {
     "name": "stdout",
     "output_type": "stream",
     "text": [
      "Epoch 1/120\n",
      "14/14 [==============================] - 53s 3s/step - loss: 1.8047 - accuracy: 0.2737 - val_loss: 1.6416 - val_accuracy: 0.2797\n",
      "Epoch 2/120\n",
      "14/14 [==============================] - 54s 4s/step - loss: 1.6203 - accuracy: 0.2950 - val_loss: 1.4353 - val_accuracy: 0.4476\n",
      "Epoch 3/120\n",
      "14/14 [==============================] - 55s 4s/step - loss: 1.3866 - accuracy: 0.4692 - val_loss: 1.3679 - val_accuracy: 0.4685\n",
      "Epoch 4/120\n",
      "14/14 [==============================] - 45s 3s/step - loss: 1.3181 - accuracy: 0.4957 - val_loss: 1.3957 - val_accuracy: 0.4476\n",
      "Epoch 5/120\n",
      "14/14 [==============================] - 44s 3s/step - loss: 1.3015 - accuracy: 0.5107 - val_loss: 1.2155 - val_accuracy: 0.5245\n",
      "Epoch 6/120\n",
      "14/14 [==============================] - 44s 3s/step - loss: 1.2648 - accuracy: 0.5065 - val_loss: 1.1313 - val_accuracy: 0.5734\n",
      "Epoch 7/120\n",
      "14/14 [==============================] - 44s 3s/step - loss: 1.1330 - accuracy: 0.5618 - val_loss: 1.2534 - val_accuracy: 0.4336\n",
      "Epoch 8/120\n",
      "14/14 [==============================] - 57s 4s/step - loss: 1.0961 - accuracy: 0.5305 - val_loss: 1.0760 - val_accuracy: 0.5944\n",
      "Epoch 9/120\n",
      "14/14 [==============================] - 45s 3s/step - loss: 1.0376 - accuracy: 0.5732 - val_loss: 1.1412 - val_accuracy: 0.5105\n",
      "Epoch 10/120\n",
      "14/14 [==============================] - 44s 3s/step - loss: 1.0216 - accuracy: 0.6041 - val_loss: 1.1336 - val_accuracy: 0.5594\n",
      "Epoch 11/120\n",
      "14/14 [==============================] - 44s 3s/step - loss: 0.9980 - accuracy: 0.5886 - val_loss: 1.0149 - val_accuracy: 0.6224\n",
      "Epoch 12/120\n",
      "14/14 [==============================] - 49s 3s/step - loss: 0.9357 - accuracy: 0.6364 - val_loss: 0.9607 - val_accuracy: 0.6294\n",
      "Epoch 13/120\n",
      "14/14 [==============================] - 50s 4s/step - loss: 0.9405 - accuracy: 0.5798 - val_loss: 0.8711 - val_accuracy: 0.6643\n",
      "Epoch 14/120\n",
      "14/14 [==============================] - 44s 3s/step - loss: 0.9878 - accuracy: 0.5848 - val_loss: 1.0453 - val_accuracy: 0.5594\n",
      "Epoch 15/120\n",
      "14/14 [==============================] - 44s 3s/step - loss: 0.9061 - accuracy: 0.6447 - val_loss: 1.0140 - val_accuracy: 0.6224\n",
      "Epoch 16/120\n",
      "14/14 [==============================] - 44s 3s/step - loss: 0.8231 - accuracy: 0.6767 - val_loss: 0.9756 - val_accuracy: 0.6014\n",
      "Epoch 17/120\n",
      "14/14 [==============================] - 49s 3s/step - loss: 0.9130 - accuracy: 0.6306 - val_loss: 0.8866 - val_accuracy: 0.6084\n",
      "Epoch 18/120\n",
      "14/14 [==============================] - 46s 3s/step - loss: 0.8432 - accuracy: 0.6374 - val_loss: 0.8393 - val_accuracy: 0.6224\n",
      "Epoch 19/120\n",
      "14/14 [==============================] - 48s 3s/step - loss: 0.8155 - accuracy: 0.6650 - val_loss: 0.7465 - val_accuracy: 0.6923\n",
      "Epoch 20/120\n",
      "14/14 [==============================] - 48s 3s/step - loss: 0.7320 - accuracy: 0.7107 - val_loss: 0.9512 - val_accuracy: 0.6434\n",
      "Epoch 21/120\n",
      "14/14 [==============================] - 44s 3s/step - loss: 0.7844 - accuracy: 0.6690 - val_loss: 0.7998 - val_accuracy: 0.6434\n",
      "Epoch 22/120\n",
      "14/14 [==============================] - 43s 3s/step - loss: 0.7171 - accuracy: 0.7103 - val_loss: 0.7754 - val_accuracy: 0.6853\n",
      "Epoch 23/120\n",
      "14/14 [==============================] - 44s 3s/step - loss: 0.6845 - accuracy: 0.7427 - val_loss: 0.8112 - val_accuracy: 0.7063\n",
      "Epoch 24/120\n",
      "14/14 [==============================] - 44s 3s/step - loss: 0.7419 - accuracy: 0.7113 - val_loss: 0.7139 - val_accuracy: 0.6853\n",
      "Epoch 25/120\n",
      "14/14 [==============================] - 44s 3s/step - loss: 0.7207 - accuracy: 0.6964 - val_loss: 0.7018 - val_accuracy: 0.7133\n",
      "Epoch 26/120\n",
      "14/14 [==============================] - 56s 4s/step - loss: 0.6735 - accuracy: 0.7491 - val_loss: 0.8027 - val_accuracy: 0.6643\n",
      "Epoch 27/120\n",
      "14/14 [==============================] - 53s 4s/step - loss: 0.6861 - accuracy: 0.7093 - val_loss: 0.8068 - val_accuracy: 0.6923\n",
      "Epoch 28/120\n",
      "14/14 [==============================] - 62s 4s/step - loss: 0.6818 - accuracy: 0.7127 - val_loss: 0.6810 - val_accuracy: 0.7133\n",
      "Epoch 29/120\n",
      "14/14 [==============================] - 57s 4s/step - loss: 0.7121 - accuracy: 0.7029 - val_loss: 0.6609 - val_accuracy: 0.7133\n",
      "Epoch 30/120\n",
      "14/14 [==============================] - 45s 3s/step - loss: 0.5912 - accuracy: 0.7989 - val_loss: 0.7064 - val_accuracy: 0.7552\n",
      "Epoch 31/120\n",
      "14/14 [==============================] - 44s 3s/step - loss: 0.6264 - accuracy: 0.7315 - val_loss: 0.6567 - val_accuracy: 0.7622\n",
      "Epoch 32/120\n",
      "14/14 [==============================] - 47s 3s/step - loss: 0.5717 - accuracy: 0.7611 - val_loss: 0.7557 - val_accuracy: 0.7273\n",
      "Epoch 33/120\n",
      "14/14 [==============================] - 43s 3s/step - loss: 0.6294 - accuracy: 0.7683 - val_loss: 0.6716 - val_accuracy: 0.7413\n",
      "Epoch 34/120\n",
      "14/14 [==============================] - 44s 3s/step - loss: 0.5751 - accuracy: 0.7708 - val_loss: 0.6760 - val_accuracy: 0.6993\n",
      "Epoch 35/120\n",
      "14/14 [==============================] - 44s 3s/step - loss: 0.5522 - accuracy: 0.7903 - val_loss: 0.6405 - val_accuracy: 0.7483\n",
      "Epoch 36/120\n",
      "14/14 [==============================] - 44s 3s/step - loss: 0.6066 - accuracy: 0.7542 - val_loss: 0.7023 - val_accuracy: 0.7203\n",
      "Epoch 37/120\n",
      "14/14 [==============================] - 44s 3s/step - loss: 0.5683 - accuracy: 0.7616 - val_loss: 0.9474 - val_accuracy: 0.6084\n",
      "Epoch 38/120\n",
      "14/14 [==============================] - 43s 3s/step - loss: 0.6313 - accuracy: 0.7748 - val_loss: 0.6710 - val_accuracy: 0.7203\n",
      "Epoch 39/120\n",
      "14/14 [==============================] - 45s 3s/step - loss: 0.5723 - accuracy: 0.7672 - val_loss: 0.6103 - val_accuracy: 0.7972\n",
      "Epoch 40/120\n",
      "14/14 [==============================] - 47s 3s/step - loss: 0.5527 - accuracy: 0.7857 - val_loss: 0.6125 - val_accuracy: 0.7692\n",
      "Epoch 41/120\n",
      "14/14 [==============================] - 46s 3s/step - loss: 0.5112 - accuracy: 0.7815 - val_loss: 0.5280 - val_accuracy: 0.8042\n",
      "Epoch 42/120\n",
      "14/14 [==============================] - 44s 3s/step - loss: 0.4536 - accuracy: 0.8510 - val_loss: 0.6457 - val_accuracy: 0.7692\n",
      "Epoch 43/120\n",
      "14/14 [==============================] - 46s 3s/step - loss: 0.4975 - accuracy: 0.8042 - val_loss: 0.6071 - val_accuracy: 0.7552\n",
      "Epoch 44/120\n",
      "14/14 [==============================] - 45s 3s/step - loss: 0.5085 - accuracy: 0.7880 - val_loss: 0.8510 - val_accuracy: 0.7133\n",
      "Epoch 45/120\n",
      "14/14 [==============================] - 47s 3s/step - loss: 0.4603 - accuracy: 0.8256 - val_loss: 0.8306 - val_accuracy: 0.7063\n",
      "Epoch 46/120\n",
      "14/14 [==============================] - 49s 3s/step - loss: 0.5435 - accuracy: 0.7887 - val_loss: 0.4722 - val_accuracy: 0.8042\n",
      "Epoch 47/120\n",
      "14/14 [==============================] - 64s 5s/step - loss: 0.5395 - accuracy: 0.8137 - val_loss: 0.7603 - val_accuracy: 0.7483\n",
      "Epoch 48/120\n",
      "14/14 [==============================] - 53s 3s/step - loss: 0.5743 - accuracy: 0.7689 - val_loss: 0.5562 - val_accuracy: 0.7762\n",
      "Epoch 49/120\n",
      "14/14 [==============================] - 44s 3s/step - loss: 0.5643 - accuracy: 0.7695 - val_loss: 0.6788 - val_accuracy: 0.7622\n",
      "Epoch 50/120\n",
      "14/14 [==============================] - 50s 4s/step - loss: 0.4618 - accuracy: 0.8189 - val_loss: 0.5300 - val_accuracy: 0.7762\n",
      "Epoch 51/120\n",
      "14/14 [==============================] - 44s 3s/step - loss: 0.4632 - accuracy: 0.8093 - val_loss: 0.6547 - val_accuracy: 0.7413\n",
      "Epoch 52/120\n",
      "14/14 [==============================] - 49s 3s/step - loss: 0.4046 - accuracy: 0.8447 - val_loss: 0.5222 - val_accuracy: 0.7902\n",
      "Epoch 53/120\n",
      "14/14 [==============================] - 46s 3s/step - loss: 0.4448 - accuracy: 0.8215 - val_loss: 0.4512 - val_accuracy: 0.8462\n",
      "Epoch 54/120\n",
      "14/14 [==============================] - 52s 4s/step - loss: 0.3509 - accuracy: 0.8792 - val_loss: 0.4364 - val_accuracy: 0.8322\n",
      "Epoch 55/120\n",
      "14/14 [==============================] - 50s 4s/step - loss: 0.4338 - accuracy: 0.8640 - val_loss: 0.5672 - val_accuracy: 0.8042\n",
      "Epoch 56/120\n",
      "14/14 [==============================] - 48s 3s/step - loss: 0.4392 - accuracy: 0.8280 - val_loss: 0.3986 - val_accuracy: 0.8671\n",
      "Epoch 57/120\n",
      "14/14 [==============================] - 45s 3s/step - loss: 0.4342 - accuracy: 0.8326 - val_loss: 0.5022 - val_accuracy: 0.7762\n",
      "Epoch 58/120\n",
      "14/14 [==============================] - 51s 4s/step - loss: 0.5208 - accuracy: 0.7888 - val_loss: 0.4904 - val_accuracy: 0.8182\n"
     ]
    },
    {
     "name": "stdout",
     "output_type": "stream",
     "text": [
      "Epoch 59/120\n",
      "14/14 [==============================] - 112s 8s/step - loss: 0.3677 - accuracy: 0.8587 - val_loss: 0.6390 - val_accuracy: 0.7483\n",
      "Epoch 60/120\n",
      "14/14 [==============================] - 50s 4s/step - loss: 0.4292 - accuracy: 0.8238 - val_loss: 0.4869 - val_accuracy: 0.8042\n",
      "Epoch 61/120\n",
      "14/14 [==============================] - 48s 4s/step - loss: 0.3794 - accuracy: 0.8431 - val_loss: 0.4085 - val_accuracy: 0.8462\n",
      "Epoch 62/120\n",
      "14/14 [==============================] - 44s 3s/step - loss: 0.3845 - accuracy: 0.8543 - val_loss: 0.5118 - val_accuracy: 0.8392\n",
      "Epoch 63/120\n",
      "14/14 [==============================] - 45s 3s/step - loss: 0.2932 - accuracy: 0.9040 - val_loss: 0.3557 - val_accuracy: 0.8741\n",
      "Epoch 64/120\n",
      "14/14 [==============================] - 45s 3s/step - loss: 0.2968 - accuracy: 0.8904 - val_loss: 0.5097 - val_accuracy: 0.7902\n",
      "Epoch 65/120\n",
      "14/14 [==============================] - 49s 3s/step - loss: 0.2906 - accuracy: 0.8957 - val_loss: 0.8777 - val_accuracy: 0.7273\n",
      "Epoch 66/120\n",
      "14/14 [==============================] - 45s 3s/step - loss: 0.3996 - accuracy: 0.8342 - val_loss: 0.7206 - val_accuracy: 0.7552\n",
      "Epoch 67/120\n",
      "14/14 [==============================] - 50s 4s/step - loss: 0.4909 - accuracy: 0.8068 - val_loss: 0.6109 - val_accuracy: 0.8112\n",
      "Epoch 68/120\n",
      "14/14 [==============================] - 53s 4s/step - loss: 0.4105 - accuracy: 0.8343 - val_loss: 0.6119 - val_accuracy: 0.7692\n",
      "Epoch 69/120\n",
      "14/14 [==============================] - 73s 5s/step - loss: 0.4038 - accuracy: 0.8291 - val_loss: 0.4926 - val_accuracy: 0.8322\n",
      "Epoch 70/120\n",
      "14/14 [==============================] - 58s 4s/step - loss: 0.3332 - accuracy: 0.8803 - val_loss: 0.4447 - val_accuracy: 0.8462\n",
      "Epoch 71/120\n",
      "14/14 [==============================] - 62s 4s/step - loss: 0.3019 - accuracy: 0.8922 - val_loss: 0.6815 - val_accuracy: 0.8182\n",
      "Epoch 72/120\n",
      "14/14 [==============================] - 63s 4s/step - loss: 0.3599 - accuracy: 0.8746 - val_loss: 0.5422 - val_accuracy: 0.7832\n",
      "Epoch 73/120\n",
      "14/14 [==============================] - 63s 4s/step - loss: 0.2998 - accuracy: 0.8842 - val_loss: 0.5365 - val_accuracy: 0.7832\n",
      "Epoch 74/120\n",
      "14/14 [==============================] - 49s 3s/step - loss: 0.2857 - accuracy: 0.8953 - val_loss: 0.7353 - val_accuracy: 0.7622\n",
      "Epoch 75/120\n",
      "14/14 [==============================] - 47s 3s/step - loss: 0.2400 - accuracy: 0.9158 - val_loss: 0.7427 - val_accuracy: 0.7762\n",
      "Epoch 76/120\n",
      "14/14 [==============================] - 47s 3s/step - loss: 0.3024 - accuracy: 0.8970 - val_loss: 0.4586 - val_accuracy: 0.8392\n",
      "Epoch 77/120\n",
      "14/14 [==============================] - 48s 3s/step - loss: 0.2903 - accuracy: 0.8896 - val_loss: 0.6009 - val_accuracy: 0.8252\n",
      "Epoch 78/120\n",
      "14/14 [==============================] - 50s 4s/step - loss: 0.3296 - accuracy: 0.8619 - val_loss: 0.7545 - val_accuracy: 0.7483\n",
      "Epoch 79/120\n",
      "14/14 [==============================] - 51s 4s/step - loss: 0.2508 - accuracy: 0.8926 - val_loss: 0.4724 - val_accuracy: 0.8462\n",
      "Epoch 80/120\n",
      "14/14 [==============================] - 45s 3s/step - loss: 0.2524 - accuracy: 0.9088 - val_loss: 0.5493 - val_accuracy: 0.8042\n",
      "Epoch 81/120\n",
      "14/14 [==============================] - 64s 5s/step - loss: 0.1911 - accuracy: 0.9199 - val_loss: 0.4978 - val_accuracy: 0.7762\n",
      "Epoch 82/120\n",
      "14/14 [==============================] - 48s 3s/step - loss: 0.2494 - accuracy: 0.8999 - val_loss: 0.3532 - val_accuracy: 0.8462\n",
      "Epoch 83/120\n",
      "14/14 [==============================] - 45s 3s/step - loss: 0.2883 - accuracy: 0.8816 - val_loss: 0.4582 - val_accuracy: 0.8252\n",
      "Epoch 84/120\n",
      "14/14 [==============================] - 45s 3s/step - loss: 0.2693 - accuracy: 0.8836 - val_loss: 0.6005 - val_accuracy: 0.8182\n",
      "Epoch 85/120\n",
      "14/14 [==============================] - 50s 3s/step - loss: 0.2658 - accuracy: 0.8940 - val_loss: 0.5708 - val_accuracy: 0.7692\n",
      "Epoch 86/120\n",
      "14/14 [==============================] - 50s 4s/step - loss: 0.2394 - accuracy: 0.9117 - val_loss: 0.5036 - val_accuracy: 0.8322\n",
      "Epoch 87/120\n",
      "14/14 [==============================] - 52s 4s/step - loss: 0.2207 - accuracy: 0.9053 - val_loss: 0.3622 - val_accuracy: 0.8671\n",
      "Epoch 88/120\n",
      "14/14 [==============================] - 47s 3s/step - loss: 0.1979 - accuracy: 0.9340 - val_loss: 0.4797 - val_accuracy: 0.8322\n",
      "Epoch 89/120\n",
      "14/14 [==============================] - 45s 3s/step - loss: 0.1770 - accuracy: 0.9414 - val_loss: 0.3321 - val_accuracy: 0.9231\n",
      "Epoch 90/120\n",
      "14/14 [==============================] - 50s 4s/step - loss: 0.1935 - accuracy: 0.9189 - val_loss: 0.4100 - val_accuracy: 0.8601\n",
      "Epoch 91/120\n",
      "14/14 [==============================] - 49s 3s/step - loss: 0.2706 - accuracy: 0.8858 - val_loss: 0.3744 - val_accuracy: 0.8811\n",
      "Epoch 92/120\n",
      "14/14 [==============================] - 48s 3s/step - loss: 0.2189 - accuracy: 0.9277 - val_loss: 0.3469 - val_accuracy: 0.8741\n",
      "Epoch 93/120\n",
      "14/14 [==============================] - 45s 3s/step - loss: 0.2668 - accuracy: 0.9002 - val_loss: 0.3263 - val_accuracy: 0.9091\n",
      "Epoch 94/120\n",
      "14/14 [==============================] - 45s 3s/step - loss: 0.2259 - accuracy: 0.9220 - val_loss: 0.6159 - val_accuracy: 0.7692\n",
      "Epoch 95/120\n",
      "14/14 [==============================] - 51s 4s/step - loss: 0.1832 - accuracy: 0.9452 - val_loss: 0.3941 - val_accuracy: 0.8811\n",
      "Epoch 96/120\n",
      "14/14 [==============================] - 48s 3s/step - loss: 0.1934 - accuracy: 0.9239 - val_loss: 0.6929 - val_accuracy: 0.8042\n",
      "Epoch 97/120\n",
      "14/14 [==============================] - 47s 3s/step - loss: 0.1506 - accuracy: 0.9596 - val_loss: 0.3351 - val_accuracy: 0.9161\n",
      "Epoch 98/120\n",
      "14/14 [==============================] - 44s 3s/step - loss: 0.1793 - accuracy: 0.9461 - val_loss: 0.2723 - val_accuracy: 0.9441\n",
      "Epoch 99/120\n",
      "14/14 [==============================] - 44s 3s/step - loss: 0.1879 - accuracy: 0.9453 - val_loss: 0.4644 - val_accuracy: 0.8322\n",
      "Epoch 100/120\n",
      "14/14 [==============================] - 46s 3s/step - loss: 0.2177 - accuracy: 0.9090 - val_loss: 0.4303 - val_accuracy: 0.8601\n",
      "Epoch 101/120\n",
      "14/14 [==============================] - 44s 3s/step - loss: 0.1941 - accuracy: 0.9174 - val_loss: 0.9172 - val_accuracy: 0.7273\n",
      "Epoch 102/120\n",
      "14/14 [==============================] - 44s 3s/step - loss: 0.2701 - accuracy: 0.9049 - val_loss: 0.5269 - val_accuracy: 0.7972\n",
      "Epoch 103/120\n",
      "14/14 [==============================] - 44s 3s/step - loss: 0.1927 - accuracy: 0.9332 - val_loss: 0.3566 - val_accuracy: 0.8881\n",
      "Epoch 104/120\n",
      "14/14 [==============================] - 46s 3s/step - loss: 0.1774 - accuracy: 0.9237 - val_loss: 0.5226 - val_accuracy: 0.8322\n",
      "Epoch 105/120\n",
      "14/14 [==============================] - 44s 3s/step - loss: 0.1610 - accuracy: 0.9476 - val_loss: 0.2979 - val_accuracy: 0.9161\n",
      "Epoch 106/120\n",
      "14/14 [==============================] - 44s 3s/step - loss: 0.1588 - accuracy: 0.9372 - val_loss: 0.3740 - val_accuracy: 0.8881\n",
      "Epoch 107/120\n",
      "14/14 [==============================] - 45s 3s/step - loss: 0.1556 - accuracy: 0.9415 - val_loss: 0.3144 - val_accuracy: 0.8811\n",
      "Epoch 108/120\n",
      "14/14 [==============================] - 41s 3s/step - loss: 0.1579 - accuracy: 0.9459 - val_loss: 0.2975 - val_accuracy: 0.9231\n",
      "Epoch 109/120\n",
      "14/14 [==============================] - 17s 1s/step - loss: 0.1282 - accuracy: 0.9476 - val_loss: 0.4645 - val_accuracy: 0.9021\n",
      "Epoch 110/120\n",
      "14/14 [==============================] - 17s 1s/step - loss: 0.2432 - accuracy: 0.9153 - val_loss: 0.3431 - val_accuracy: 0.9161\n",
      "Epoch 111/120\n",
      "14/14 [==============================] - 17s 1s/step - loss: 0.1973 - accuracy: 0.9125 - val_loss: 0.4981 - val_accuracy: 0.8462\n",
      "Epoch 112/120\n",
      "14/14 [==============================] - 17s 1s/step - loss: 0.1478 - accuracy: 0.9416 - val_loss: 0.3308 - val_accuracy: 0.8811\n",
      "Epoch 113/120\n",
      "14/14 [==============================] - 17s 1s/step - loss: 0.1540 - accuracy: 0.9564 - val_loss: 0.3050 - val_accuracy: 0.9161\n",
      "Epoch 114/120\n",
      "14/14 [==============================] - 17s 1s/step - loss: 0.1876 - accuracy: 0.9384 - val_loss: 0.2763 - val_accuracy: 0.9441\n",
      "Epoch 115/120\n",
      "14/14 [==============================] - 17s 1s/step - loss: 0.2193 - accuracy: 0.9256 - val_loss: 0.3088 - val_accuracy: 0.9161\n",
      "Epoch 116/120\n"
     ]
    },
    {
     "name": "stdout",
     "output_type": "stream",
     "text": [
      "14/14 [==============================] - 17s 1s/step - loss: 0.2133 - accuracy: 0.9048 - val_loss: 0.3574 - val_accuracy: 0.9161\n",
      "Epoch 117/120\n",
      "14/14 [==============================] - 17s 1s/step - loss: 0.1750 - accuracy: 0.9472 - val_loss: 0.4418 - val_accuracy: 0.8671\n",
      "Epoch 118/120\n",
      "14/14 [==============================] - 18s 1s/step - loss: 0.1619 - accuracy: 0.9490 - val_loss: 0.3192 - val_accuracy: 0.9021\n",
      "Epoch 119/120\n",
      "14/14 [==============================] - 17s 1s/step - loss: 0.1174 - accuracy: 0.9657 - val_loss: 0.1961 - val_accuracy: 0.9441\n",
      "Epoch 120/120\n",
      "14/14 [==============================] - 17s 1s/step - loss: 0.2417 - accuracy: 0.9072 - val_loss: 0.2696 - val_accuracy: 0.9091\n"
     ]
    }
   ],
   "source": [
    "history= model.fit_generator(x_train,steps_per_epoch=14, validation_data=x_test, epochs=120,validation_steps=5)"
   ]
  },
  {
   "cell_type": "code",
   "execution_count": 17,
   "metadata": {},
   "outputs": [],
   "source": [
    "model.save(\"wildplant.h5\")"
   ]
  },
  {
   "cell_type": "code",
   "execution_count": 18,
   "metadata": {},
   "outputs": [],
   "source": [
    "from tensorflow.keras.models import load_model\n",
    "from tensorflow.keras.preprocessing import image\n",
    "import numpy as np"
   ]
  },
  {
   "cell_type": "code",
   "execution_count": 19,
   "metadata": {},
   "outputs": [],
   "source": [
    "model = load_model('wildplant.h5')"
   ]
  },
  {
   "cell_type": "code",
   "execution_count": 20,
   "metadata": {},
   "outputs": [],
   "source": [
    "index =['Asparagus_edible','Blue Vervain_edible','Cattail_edible', 'Chicory_edible_non edible','Fireweed_edible_non edible', 'green castor bean_non edible']"
   ]
  },
  {
   "cell_type": "code",
   "execution_count": 21,
   "metadata": {},
   "outputs": [],
   "source": [
    "img = image.load_img('green 1 (2).jpg', target_size = (128,128))"
   ]
  },
  {
   "cell_type": "code",
   "execution_count": 22,
   "metadata": {},
   "outputs": [],
   "source": [
    "x = image.img_to_array(img)"
   ]
  },
  {
   "cell_type": "code",
   "execution_count": 23,
   "metadata": {},
   "outputs": [],
   "source": [
    "x = np.expand_dims(x,axis=0)"
   ]
  },
  {
   "cell_type": "code",
   "execution_count": 27,
   "metadata": {},
   "outputs": [],
   "source": [
    "pred = model.predict_classes(x) "
   ]
  },
  {
   "cell_type": "code",
   "execution_count": 28,
   "metadata": {},
   "outputs": [
    {
     "data": {
      "text/plain": [
       "array([5], dtype=int64)"
      ]
     },
     "execution_count": 28,
     "metadata": {},
     "output_type": "execute_result"
    }
   ],
   "source": [
    "pred"
   ]
  },
  {
   "cell_type": "code",
   "execution_count": 29,
   "metadata": {},
   "outputs": [
    {
     "data": {
      "text/plain": [
       "'green castor bean_non edible'"
      ]
     },
     "execution_count": 29,
     "metadata": {},
     "output_type": "execute_result"
    }
   ],
   "source": [
    "result = index[pred[0]]\n",
    "result"
   ]
  },
  {
   "cell_type": "code",
   "execution_count": null,
   "metadata": {},
   "outputs": [],
   "source": []
  }
 ],
 "metadata": {
  "kernelspec": {
   "display_name": "Python 3",
   "language": "python",
   "name": "python3"
  },
  "language_info": {
   "codemirror_mode": {
    "name": "ipython",
    "version": 3
   },
   "file_extension": ".py",
   "mimetype": "text/x-python",
   "name": "python",
   "nbconvert_exporter": "python",
   "pygments_lexer": "ipython3",
   "version": "3.7.3"
  }
 },
 "nbformat": 4,
 "nbformat_minor": 2
}
